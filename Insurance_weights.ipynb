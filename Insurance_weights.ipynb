{
  "nbformat": 4,
  "nbformat_minor": 0,
  "metadata": {
    "colab": {
      "provenance": [],
      "mount_file_id": "1i49kL7sWNcpVMKwPcCtjdCC3pBDNfGxl",
      "authorship_tag": "ABX9TyMxsRQKgZpR/OLt6QKhMLFQ",
      "include_colab_link": true
    },
    "kernelspec": {
      "name": "python3",
      "display_name": "Python 3"
    },
    "language_info": {
      "name": "python"
    }
  },
  "cells": [
    {
      "cell_type": "markdown",
      "metadata": {
        "id": "view-in-github",
        "colab_type": "text"
      },
      "source": [
        "<a href=\"https://colab.research.google.com/github/ChoChangyeon/KNN/blob/master/Insurance_weights.ipynb\" target=\"_parent\"><img src=\"https://colab.research.google.com/assets/colab-badge.svg\" alt=\"Open In Colab\"/></a>"
      ]
    },
    {
      "cell_type": "code",
      "source": [
        "import numpy as np\n",
        "import matplotlib.pyplot as plt\n",
        "import pandas as pd"
      ],
      "metadata": {
        "id": "2YAC0_92HlAC"
      },
      "execution_count": null,
      "outputs": []
    },
    {
      "cell_type": "code",
      "source": [
        "insurance_weights = pd.read_csv('/content/drive/MyDrive/Python Files/insurance_weights.csv')\n",
        "print(insurance_weights)"
      ],
      "metadata": {
        "colab": {
          "base_uri": "https://localhost:8080/"
        },
        "id": "8TUjgxN8IimL",
        "outputId": "4e8769ce-cc58-4857-8153-3133d5d6f407"
      },
      "execution_count": null,
      "outputs": [
        {
          "output_type": "stream",
          "name": "stdout",
          "text": [
            "      significant  age_w  sex_w  bmi_w  children_w  smoker_w  region_w\n",
            "0           basic   1.00   1.00    1.0         1.0      1.00       1.0\n",
            "1   single_parent   0.50   0.75    0.5         1.0      0.50       0.5\n",
            "2  family_history   0.75   0.50    1.0         0.5      0.75       0.5\n"
          ]
        }
      ]
    },
    {
      "cell_type": "code",
      "source": [
        "preprocessing_datasets = pd.read_csv('/content/drive/MyDrive/Python Files/Preprocessing_Data.csv')\n",
        "print(preprocessing_datasets)"
      ],
      "metadata": {
        "colab": {
          "base_uri": "https://localhost:8080/"
        },
        "id": "0ffvYIPHdPBg",
        "outputId": "f68f5973-af9e-4b39-a32d-7eccbdcc09d1"
      },
      "execution_count": null,
      "outputs": [
        {
          "output_type": "stream",
          "name": "stdout",
          "text": [
            "      age  sex     bmi  children  smoker  region  charges\n",
            "0      19    1  27.900         0       0       3    16885\n",
            "1      18    0  33.770         1       1       2     1726\n",
            "2      28    0  33.000         3       1       2     4449\n",
            "3      33    0  22.705         0       1       1    21984\n",
            "4      32    0  28.880         0       1       1     3867\n",
            "...   ...  ...     ...       ...     ...     ...      ...\n",
            "1333   50    0  30.970         3       1       1    10601\n",
            "1334   18    1  31.920         0       1       0     2206\n",
            "1335   18    1  36.850         0       1       2     1630\n",
            "1336   21    1  25.800         0       1       3     2008\n",
            "1337   61    1  29.070         0       0       1    29141\n",
            "\n",
            "[1338 rows x 7 columns]\n"
          ]
        }
      ]
    },
    {
      "cell_type": "code",
      "source": [
        "preprocessing_datasets.loc[0]"
      ],
      "metadata": {
        "colab": {
          "base_uri": "https://localhost:8080/",
          "height": 303
        },
        "id": "5lz7cJICdv7v",
        "outputId": "40ea9f86-4783-4036-e7d3-a88a10c00557"
      },
      "execution_count": null,
      "outputs": [
        {
          "output_type": "execute_result",
          "data": {
            "text/plain": [
              "age            19.0\n",
              "sex             1.0\n",
              "bmi            27.9\n",
              "children        0.0\n",
              "smoker          0.0\n",
              "region          3.0\n",
              "charges     16885.0\n",
              "Name: 0, dtype: float64"
            ],
            "text/html": [
              "<div>\n",
              "<style scoped>\n",
              "    .dataframe tbody tr th:only-of-type {\n",
              "        vertical-align: middle;\n",
              "    }\n",
              "\n",
              "    .dataframe tbody tr th {\n",
              "        vertical-align: top;\n",
              "    }\n",
              "\n",
              "    .dataframe thead th {\n",
              "        text-align: right;\n",
              "    }\n",
              "</style>\n",
              "<table border=\"1\" class=\"dataframe\">\n",
              "  <thead>\n",
              "    <tr style=\"text-align: right;\">\n",
              "      <th></th>\n",
              "      <th>0</th>\n",
              "    </tr>\n",
              "  </thead>\n",
              "  <tbody>\n",
              "    <tr>\n",
              "      <th>age</th>\n",
              "      <td>19.0</td>\n",
              "    </tr>\n",
              "    <tr>\n",
              "      <th>sex</th>\n",
              "      <td>1.0</td>\n",
              "    </tr>\n",
              "    <tr>\n",
              "      <th>bmi</th>\n",
              "      <td>27.9</td>\n",
              "    </tr>\n",
              "    <tr>\n",
              "      <th>children</th>\n",
              "      <td>0.0</td>\n",
              "    </tr>\n",
              "    <tr>\n",
              "      <th>smoker</th>\n",
              "      <td>0.0</td>\n",
              "    </tr>\n",
              "    <tr>\n",
              "      <th>region</th>\n",
              "      <td>3.0</td>\n",
              "    </tr>\n",
              "    <tr>\n",
              "      <th>charges</th>\n",
              "      <td>16885.0</td>\n",
              "    </tr>\n",
              "  </tbody>\n",
              "</table>\n",
              "</div><br><label><b>dtype:</b> float64</label>"
            ]
          },
          "metadata": {},
          "execution_count": 24
        }
      ]
    },
    {
      "cell_type": "code",
      "source": [
        "import openai\n",
        "import os\n",
        "import pandas as pd\n",
        "import time\n",
        "openai.api_key = #GPT api key 입력"
      ],
      "metadata": {
        "id": "W9U5ZE8AoBy9"
      },
      "execution_count": null,
      "outputs": []
    },
    {
      "cell_type": "code",
      "source": [
        "def Choosing_significant(prompt):\n",
        "    messages = [{\"role\": \"user\", \"content\": prompt}]\n",
        "    response = openai.ChatCompletion.create(\n",
        "        model=\"gpt-3.5-turbo\",\n",
        "        messages=[{\"role\": \"system\", \"content\": \"당신은 문장의 핵심 주제를 알아내는 AI입니다. 입력된 문장의 핵심 주제가 '한부모 가정'과 '가족력' 중 하나라면 해당 단어를 출력하고, 둘 다 관련이 없다면 '일반'을 출력하면 됩니다. 다른 말은 없이 해당 단어만 출력하면 됩니다.\"},messages],\n",
        "        temperature=0,\n",
        "    )\n",
        "    return response.choices[0].message[\"content\"]"
      ],
      "metadata": {
        "id": "blRYm7F6JoIM"
      },
      "execution_count": null,
      "outputs": []
    },
    {
      "cell_type": "code",
      "execution_count": null,
      "metadata": {
        "id": "fyP9-OiN0jph"
      },
      "outputs": [],
      "source": [
        "def kNNweights(dataset,significant):\n",
        "  import pandas as pd\n",
        "  insurance_weights = pd.read_csv('/content/drive/MyDrive/Python Files/Insurance_weights.csv')\n",
        "  if significant == 'single_parent':\n",
        "    for i in range(len(dataset)):\n",
        "      weights_datasets = insurance_weights.loc[1] * dataset.loc[i]\n",
        "      dataset.loc[i] = weights_datasets\n",
        "  elif significant == 'family_history':\n",
        "    for i in range(len(dataset)):\n",
        "      weights_datasets = insurance_weights.loc[2] * dataset.loc[i]\n",
        "      dataset.loc[i] = weights_datasets\n",
        "  else:\n",
        "    for i in range(len(dastaset)):\n",
        "      weights_datasets = insurance_weights.loc[0] * dataset.loc[i]\n",
        "      dataset.loc[i] = weights_datasets\n",
        "\n",
        "  return dataset\n",
        "\n",
        "kNNweights(preprocessing_datasets,'single_parent')"
      ]
    }
  ]
}